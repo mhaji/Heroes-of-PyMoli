{
 "cells": [
  {
   "cell_type": "markdown",
   "metadata": {},
   "source": [
    "### Heroes Of Pymoli Data Analysis\n",
    "* Of the 1163 active players, the vast majority are male (84%). There also exists, a smaller, but notable proportion of female players (14%).\n",
    "\n",
    "* Our peak age demographic falls between 20-24 (44.8%) with secondary groups falling between 15-19 (18.60%) and 25-29 (13.4%).  \n",
    "-----"
   ]
  },
  {
   "cell_type": "markdown",
   "metadata": {},
   "source": [
    "### Note\n",
    "* Instructions have been included for each segment. You do not have to follow them exactly, but they are included to help you think through the steps."
   ]
  },
  {
   "cell_type": "code",
   "execution_count": null,
   "metadata": {},
   "outputs": [],
   "source": [
    "# Dependencies and Setup\n",
    "import pandas as pd\n",
    "import numpy as np\n",
    "from pprint import pprint"
   ]
  },
  {
   "cell_type": "code",
   "execution_count": null,
   "metadata": {},
   "outputs": [],
   "source": [
    "# Raw data file\n",
    "file_to_load = \"Resources/purchase_data.csv\"\n",
    "\n",
    "# Read purchasing file and store into pandas data frame\n",
    "purchase_data = pd.read_csv(file_to_load)\n",
    "purchase_data.head()"
   ]
  },
  {
   "cell_type": "markdown",
   "metadata": {},
   "source": [
    "## Player Count"
   ]
  },
  {
   "cell_type": "code",
   "execution_count": null,
   "metadata": {},
   "outputs": [],
   "source": [
    "print(type(purchase_data.columns))\n",
    "print(type(purchase_data.index))"
   ]
  },
  {
   "cell_type": "code",
   "execution_count": null,
   "metadata": {},
   "outputs": [],
   "source": [
    "purchase_data.columns.tolist()\n",
    "purchase_data.index.tolist()\n",
    "\n",
    "print(type(purchase_data.columns.tolist()))\n",
    "print(type(purchase_data.columns.tolist()))"
   ]
  },
  {
   "cell_type": "code",
   "execution_count": null,
   "metadata": {},
   "outputs": [],
   "source": [
    "purchase_data.shape"
   ]
  },
  {
   "cell_type": "markdown",
   "metadata": {},
   "source": [
    "### Purchase Data Stats Summary"
   ]
  },
  {
   "cell_type": "code",
   "execution_count": null,
   "metadata": {},
   "outputs": [],
   "source": [
    "purchase_data.describe()"
   ]
  },
  {
   "cell_type": "markdown",
   "metadata": {},
   "source": [
    "* Display the total number of players\n"
   ]
  },
  {
   "cell_type": "code",
   "execution_count": null,
   "metadata": {},
   "outputs": [],
   "source": [
    "number_players = purchase_data[\"SN\"].nunique()\n",
    "print(\"Total Number of Players:\", number_players)"
   ]
  },
  {
   "cell_type": "markdown",
   "metadata": {},
   "source": [
    "## Purchasing Analysis (Total)"
   ]
  },
  {
   "cell_type": "markdown",
   "metadata": {},
   "source": [
    "* Run basic calculations to obtain number of unique items, average price, etc.\n",
    "\n",
    "* Create a summary data frame to hold the results\n",
    "\n",
    "* Optional: give the displayed data cleaner formatting\n",
    "\n",
    "* Display the summary data frame\n"
   ]
  },
  {
   "cell_type": "code",
   "execution_count": null,
   "metadata": {},
   "outputs": [],
   "source": [
    "purchase_data.head()"
   ]
  },
  {
   "cell_type": "code",
   "execution_count": null,
   "metadata": {},
   "outputs": [],
   "source": [
    "num_unique_items = str(purchase_data[\"Item Name\"].nunique())\n",
    "average_price = round(purchase_data[\"Price\"].mean(),2)\n",
    "data_dict = {\"Total Unique Items\": num_unique_items, \" Average Price\": average_price}\n",
    "df = pd.DataFrame(data_dict, index = [\"Value\"])\n",
    "df.T"
   ]
  },
  {
   "cell_type": "markdown",
   "metadata": {},
   "source": [
    "## Gender Demographics"
   ]
  },
  {
   "cell_type": "markdown",
   "metadata": {},
   "source": [
    "* Percentage and Count of Male Players\n",
    "\n",
    "\n",
    "* Percentage and Count of Female Players\n",
    "\n",
    "\n",
    "* Percentage and Count of Other / Non-Disclosed\n",
    "\n",
    "\n"
   ]
  },
  {
   "cell_type": "code",
   "execution_count": null,
   "metadata": {},
   "outputs": [],
   "source": [
    "#count of Male Players\n",
    "male = purchase_data.loc[purchase_data[\"Gender\"] == \"Male\",[\"SN\",\"Gender\"]]\n",
    "male_unique = male[\"SN\"].nunique()\n",
    "\n",
    "#count of Female Players\n",
    "female = purchase_data.loc[purchase_data[\"Gender\"] == \"Female\",[\"SN\", \"Gender\"]]\n",
    "female_unique = female[\"SN\"].nunique()\n",
    "\n",
    "#count of other players\n",
    "other = purchase_data.loc[purchase_data[\"Gender\"] == \"Other / Non-Disclosed\", [\"SN\",\"Gender\"]]\n",
    "other_unique = other[\"SN\"].nunique()"
   ]
  },
  {
   "cell_type": "code",
   "execution_count": null,
   "metadata": {},
   "outputs": [],
   "source": [
    "#Percentages of each gender\n",
    "male_percentage = round(male_unique/number_players, 4) * 100\n",
    "female_percentage = round(female_unique/number_players, 4) * 100\n",
    "other_percentage = round(other_unique/number_players, 4) * 100"
   ]
  },
  {
   "cell_type": "code",
   "execution_count": null,
   "metadata": {},
   "outputs": [],
   "source": [
    "gen_count_dict = {\"Male\": male_unique, \"Female\": female_unique, \"Other/Non-Disclosed\": other_unique}\n",
    "gen_count_df = pd.DataFrame(gen_count_dict, index = [\"Unique Count\"])\n",
    "gen_count_df"
   ]
  },
  {
   "cell_type": "code",
   "execution_count": null,
   "metadata": {},
   "outputs": [],
   "source": [
    "#gender count and percentages summarized in dataframe\n",
    "percentage_dict = {\"Male\": male_percentage, \"Female\": female_percentage, \"Other/Non-Disclosed\": other_percentage}\n",
    "percent_df = pd.DataFrame(percentage_dict, index = [\"Percentage\"])\n",
    "percent_df"
   ]
  },
  {
   "cell_type": "markdown",
   "metadata": {},
   "source": [
    "### Summary of Gender Demographics"
   ]
  },
  {
   "cell_type": "code",
   "execution_count": null,
   "metadata": {},
   "outputs": [],
   "source": [
    "percent_df.append(gen_count_df).T"
   ]
  },
  {
   "cell_type": "markdown",
   "metadata": {},
   "source": [
    "\n",
    "## Purchasing Analysis (Gender)"
   ]
  },
  {
   "cell_type": "markdown",
   "metadata": {},
   "source": [
    "* Run basic calculations to obtain purchase count, avg. purchase price, avg. purchase total per person etc. by gender\n",
    "\n",
    "\n",
    "\n",
    "\n",
    "* Create a summary data frame to hold the results\n",
    "\n",
    "\n",
    "* Optional: give the displayed data cleaner formatting\n",
    "\n",
    "\n",
    "* Display the summary data frame"
   ]
  },
  {
   "cell_type": "code",
   "execution_count": null,
   "metadata": {},
   "outputs": [],
   "source": [
    "#group by gender\n",
    "gen_group = purchase_data.groupby(\"Gender\")"
   ]
  },
  {
   "cell_type": "code",
   "execution_count": null,
   "metadata": {},
   "outputs": [],
   "source": [
    "#purchase count by gender\n",
    "gen_group_count = gen_group.count()\n",
    "\n",
    "#avg. purchase price by gender\n",
    "gen_group_avg = gen_group.mean()\n",
    "\n",
    "#avg. purchase total by gender\n",
    "gen_group_sum = gen_group.sum()"
   ]
  },
  {
   "cell_type": "code",
   "execution_count": null,
   "metadata": {},
   "outputs": [],
   "source": [
    "#Summarize Purchases by Gender\n",
    "gen_group_dict = {\"Purchase Count\": gen_group_count[\"Purchase ID\"],\n",
    "                  \"Avg Purchase Price\": gen_group_avg[\"Price\"], \n",
    "                  \"Total Purchase Price\": gen_group_sum[\"Price\"]\n",
    "                 }\n",
    "\n"
   ]
  },
  {
   "cell_type": "markdown",
   "metadata": {},
   "source": [
    "### Summary of Purchases by Gender"
   ]
  },
  {
   "cell_type": "code",
   "execution_count": null,
   "metadata": {},
   "outputs": [],
   "source": [
    "gen_group_dict_df = pd.DataFrame(gen_group_dict)"
   ]
  },
  {
   "cell_type": "code",
   "execution_count": null,
   "metadata": {},
   "outputs": [],
   "source": [
    "\n",
    "gen_group_dict_df[\"Avg Purchase Price\"] = gen_group_dict_df[\"Avg Purchase Price\"].map(\"${:.2f}\".format)\n",
    "gen_group_dict_df[\"Total Purchase Price\"] = gen_group_dict_df[\"Total Purchase Price\"].map(\"${:.2f}\".format)\n",
    "\n",
    "gen_group_dict_df"
   ]
  },
  {
   "cell_type": "markdown",
   "metadata": {},
   "source": [
    "## Age Demographics"
   ]
  },
  {
   "cell_type": "markdown",
   "metadata": {},
   "source": [
    "* Establish bins for ages\n",
    "\n",
    "\n",
    "* Categorize the existing players using the age bins. Hint: use pd.cut()\n",
    "\n",
    "\n",
    "* Calculate the numbers and percentages by age group\n",
    "\n",
    "\n",
    "* Create a summary data frame to hold the results\n",
    "\n",
    "\n",
    "* Optional: round the percentage column to two decimal points\n",
    "\n",
    "\n",
    "* Display Age Demographics Table\n"
   ]
  },
  {
   "cell_type": "code",
   "execution_count": null,
   "metadata": {},
   "outputs": [],
   "source": [
    "# Establish bins for ages\n",
    "age_bins = [0, 9.90, 14.90, 19.90, 24.90, 29.90, 34.90, 39.90, 99999]\n",
    "group_names = [\"<10\", \"10-14\", \"15-19\", \"20-24\", \"25-29\", \"30-34\", \"35-39\", \"40+\"]\n"
   ]
  },
  {
   "cell_type": "code",
   "execution_count": null,
   "metadata": {},
   "outputs": [],
   "source": [
    "df = purchase_data\n",
    "df[\"Age Groups\"] = pd.cut(purchase_data[\"Age\"], bins= age_bins, labels= group_names)\n",
    "\n",
    "#group by Age Groups\n",
    "age_group = df.groupby(\"Age Groups\")\n",
    "\n",
    "#Count players within age group \n",
    "age_group_unique = age_group[\"SN\"].nunique()\n",
    "\n",
    "# calculate Percentage of age groups\n",
    "age_group_percentage = age_group_unique/576\n"
   ]
  },
  {
   "cell_type": "code",
   "execution_count": null,
   "metadata": {},
   "outputs": [],
   "source": [
    "age_grp_cnt = pd.DataFrame(age_group_unique).rename(columns={\"SN\": \"Count\"})"
   ]
  },
  {
   "cell_type": "code",
   "execution_count": null,
   "metadata": {},
   "outputs": [],
   "source": [
    "age_df = pd.DataFrame(age_group_percentage).rename(columns={\"SN\":\"Percentage\"})\n",
    "age_df"
   ]
  },
  {
   "cell_type": "code",
   "execution_count": null,
   "metadata": {},
   "outputs": [],
   "source": []
  },
  {
   "cell_type": "code",
   "execution_count": null,
   "metadata": {},
   "outputs": [],
   "source": [
    "age_df=round(age_df,4)*100\n",
    "age_df[\"Percentage\"] = age_df[\"Percentage\"].map(\"{:.2f}%\".format)\n",
    "\n",
    "age_df"
   ]
  },
  {
   "cell_type": "code",
   "execution_count": null,
   "metadata": {},
   "outputs": [],
   "source": [
    "age_pcnt_df= age_df.join(age_grp_cnt)\n",
    "age_pcnt_df"
   ]
  },
  {
   "cell_type": "markdown",
   "metadata": {},
   "source": [
    "## Purchasing Analysis (Age)"
   ]
  },
  {
   "cell_type": "markdown",
   "metadata": {},
   "source": [
    "* Bin the purchase_data data frame by age\n",
    "\n",
    "\n",
    "* Run basic calculations to obtain purchase count, avg. purchase price, avg. purchase total per person etc. in the table below\n",
    "\n",
    "\n",
    "* Create a summary data frame to hold the results\n",
    "\n",
    "\n",
    "* Optional: give the displayed data cleaner formatting\n",
    "\n",
    "\n",
    "* Display the summary data frame"
   ]
  },
  {
   "cell_type": "code",
   "execution_count": null,
   "metadata": {},
   "outputs": [],
   "source": [
    "# Calculate purchase count, avg. price, and total cost\n",
    "age_purchase_count = age_group[\"Price\"].count()\n",
    "age_average_price = age_group[\"Price\"].mean()\n",
    "age_purchase_total = age_group[\"Price\"].sum()"
   ]
  },
  {
   "cell_type": "code",
   "execution_count": null,
   "metadata": {},
   "outputs": [],
   "source": [
    "#reformat to display currency unit\n",
    "age_average_price = age_average_price.map(\"${:.2f}\".format)\n",
    "age_purchase_total = age_purchase_total.map(\"${:.2f}\".format)"
   ]
  },
  {
   "cell_type": "code",
   "execution_count": null,
   "metadata": {},
   "outputs": [],
   "source": [
    "#Create Dataframe\n",
    "age_purchase_df = pd.DataFrame({\n",
    "    \"Purchase Count\": age_purchase_count,\n",
    "    \"Avg. Purchase Price\": age_average_price,\n",
    "    \"Total Purchase\": age_purchase_total\n",
    "})\n",
    "\n",
    "age_purchase_df"
   ]
  },
  {
   "cell_type": "markdown",
   "metadata": {},
   "source": [
    "## Top Spenders"
   ]
  },
  {
   "cell_type": "markdown",
   "metadata": {},
   "source": [
    "* Run basic calculations to obtain the results in the table below\n",
    "\n",
    "\n",
    "* Create a summary data frame to hold the results\n",
    "\n",
    "\n",
    "* Sort the total purchase value column in descending order\n",
    "\n",
    "\n",
    "* Optional: give the displayed data cleaner formatting\n",
    "\n",
    "\n",
    "* Display a preview of the summary data frame\n",
    "\n"
   ]
  },
  {
   "cell_type": "code",
   "execution_count": null,
   "metadata": {},
   "outputs": [],
   "source": [
    "# Group data by Player\n",
    "groupby_player = purchase_data.groupby(\"SN\")\n",
    "\n",
    "# Perform Basic calculations\n",
    "\n",
    "# groupby_player[\"Purchase ID\"].count()\n",
    "# groupby_player[\"Price\"].mean()\n",
    "# groupby_player[\"Price\"].sum()\n",
    "\n",
    "\n",
    "groupby_player_count = groupby_player[\"Purchase ID\"].count()\n",
    "player_avg_price = groupby_player[\"Price\"].mean()\n",
    "player_total_purchase = groupby_player[\"Price\"].sum()\n",
    "\n"
   ]
  },
  {
   "cell_type": "code",
   "execution_count": null,
   "metadata": {},
   "outputs": [],
   "source": [
    "# create Dataframe to hold results\n",
    "spenders_df = pd.DataFrame({\"Purchase Count\": groupby_player_count,\n",
    "              \"Average Purchase Price\": player_avg_price,\n",
    "              \"Total Purchase Value\": player_total_purchase\n",
    "             })\n",
    "\n",
    "# Sort Dataframe in Descending Order\n",
    "spenders_df.sort_values(by='Total Purchase Value', ascending=False, inplace=True)\n",
    "\n",
    "# reformat to display currency units\n",
    "spenders_df[\"Average Purchase Price\"] = spenders_df[\"Average Purchase Price\"].map(\"${:.2f}\".format)\n",
    "spenders_df[\"Total Purchase Value\"] = spenders_df[\"Total Purchase Value\"].map(\"${:.2f}\".format)\n",
    "\n",
    "\n",
    "#return top 5 results\n",
    "spenders_df.head()"
   ]
  },
  {
   "cell_type": "markdown",
   "metadata": {},
   "source": [
    "## Most Popular Items"
   ]
  },
  {
   "cell_type": "markdown",
   "metadata": {},
   "source": [
    "* Retrieve the Item ID, Item Name, and Item Price columns\n",
    "\n",
    "\n",
    "* Group by Item ID and Item Name. Perform calculations to obtain purchase count, item price, and total purchase value\n",
    "\n",
    "\n",
    "* Create a summary data frame to hold the results\n",
    "\n",
    "\n",
    "* Sort the purchase count column in descending order\n",
    "\n",
    "\n",
    "* Optional: give the displayed data cleaner formatting\n",
    "\n",
    "\n",
    "* Display a preview of the summary data frame\n",
    "\n"
   ]
  },
  {
   "cell_type": "code",
   "execution_count": null,
   "metadata": {},
   "outputs": [],
   "source": [
    "#select data needed to perform calculations\n",
    "item_data = purchase_data[[\"Item ID\",\"Item Name\",\"Price\"]]\n",
    "\n",
    "#group by Item Id and Item Name\n",
    "item_group = item_data.groupby([\"Item ID\",\"Item Name\"])\n",
    "\n",
    "# item_group.count()\n",
    "# item_group.mean()\n",
    "# item_group.sum()\n"
   ]
  },
  {
   "cell_type": "code",
   "execution_count": null,
   "metadata": {},
   "outputs": [],
   "source": [
    "#perform basic calculations\n",
    "item_group_count = item_group.count()\n",
    "item_group_mean = item_group.mean()\n",
    "item_group_sum = item_group.sum()\n"
   ]
  },
  {
   "cell_type": "code",
   "execution_count": null,
   "metadata": {},
   "outputs": [],
   "source": [
    "#Create data frame to hold results\n",
    "popular_items_df = pd.DataFrame({\"Purchase Count\": item_group_count[\"Price\"],\n",
    "                               \"Item Price\": item_group_mean[\"Price\"],\n",
    "                               \"Total Purchase Value\": item_group_sum[\"Price\"]\n",
    "                               })\n",
    "\n",
    "\n",
    "# Sort df in Descending order\n",
    "popular_items_df = popular_items_df.sort_values(by=\"Purchase Count\", ascending=False)\n",
    "\n",
    "\n",
    "#reformat to display currency units\n",
    "popular_items_df[\"Item Price\"] = popular_items_df[\"Item Price\"].map(\"${:.2f}\".format)\n",
    "popular_items_df[\"Total Purchase Value\"] = popular_items_df[\"Total Purchase Value\"].map(\"${:.2f}\".format)\n",
    "\n",
    "\n",
    "\n",
    "popular_items_df.head()"
   ]
  },
  {
   "cell_type": "markdown",
   "metadata": {},
   "source": [
    "## Most Profitable Items"
   ]
  },
  {
   "cell_type": "markdown",
   "metadata": {},
   "source": [
    "* Sort the above table by total purchase value in descending order\n",
    "\n",
    "\n",
    "* Optional: give the displayed data cleaner formatting\n",
    "\n",
    "\n",
    "* Display a preview of the data frame\n",
    "\n"
   ]
  },
  {
   "cell_type": "code",
   "execution_count": null,
   "metadata": {},
   "outputs": [],
   "source": [
    "popular_items_df.sort_values(by=\"Total Purchase Value\", ascending=False).head()\n"
   ]
  },
  {
   "cell_type": "code",
   "execution_count": null,
   "metadata": {},
   "outputs": [],
   "source": []
  }
 ],
 "metadata": {
  "anaconda-cloud": {},
  "kernel_info": {
   "name": "python3"
  },
  "kernelspec": {
   "display_name": "Python 3",
   "language": "python",
   "name": "python3"
  },
  "language_info": {
   "codemirror_mode": {
    "name": "ipython",
    "version": 3
   },
   "file_extension": ".py",
   "mimetype": "text/x-python",
   "name": "python",
   "nbconvert_exporter": "python",
   "pygments_lexer": "ipython3",
   "version": "3.6.6"
  },
  "nteract": {
   "version": "0.8.4"
  }
 },
 "nbformat": 4,
 "nbformat_minor": 1
}
